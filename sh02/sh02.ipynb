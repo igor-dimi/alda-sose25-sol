{
 "cells": [
  {
   "cell_type": "markdown",
   "id": "5a91827b",
   "metadata": {},
   "source": [
    "# Sheet 1\n",
    "\n",
    "## Properties of Sorting Algorithms\n",
    "\n",
    "a) `:=` means 'defined as':\n",
    "\n",
    "   * `a < b := not ( b <= a)`\n",
    "   * `a > b := b < a` (utilize the definition above)\n",
    "   * `a >= b := b <= a`\n",
    "   * `a == b := (a <= b) and (b <= a)`\n",
    "   * `a != b := not (a == b)`  (again utlizing the previous definiton)\n",
    "\n",
    "b) The following $N - 1$ tests are sufficient:\n",
    "\n",
    "   ```\n",
    "   1) a[0] <= a[1], \n",
    "   2) a[1] <= a[2], \n",
    "   ...\n",
    "   N-1) a[N-2] <= a[N-1]\n",
    "   ```\n",
    "\n",
    "   **Proof**: assume the previous $N - 1$ have passed. Let $i\\in [0..N-2]$ and $j \\in [i+1..N-1]$ be arbitrary indices.  \n",
    "\n",
    "   Since the ordering is total, transitivity holds. Specifically having `a[i] <= a[i + 1]` and `a[i + 1] <= a[i + 2]`\n",
    "   we can deduce by transitivity that `a[i] <= a[i + 2]`. Now having this result and the condition that `a[i+2] <= a[i+3]`\n",
    "   we can again deduce by transitivity that `a[i] <= a[i + 3]`\n",
    "   \n",
    "   Applying such a transitivity chain $j - i$ times we will obtain `a[i] <= a[j]`. \n",
    "   Since $i$ and $j$ were arbitrary, s.t. $i < j$, this concludes our proof. \n",
    "\n",
    "c) The usual versions of `insertion_sort()` and `quick_sort()`, without counting are given as follows \n",
    "\n",
    "   ```python\n",
    "   def insertion_sort(a) :\n",
    "      N = len(a)\n",
    "      # i = 0\n",
    "      # sorted(a[0..i])\n",
    "      for i in range(N):\n",
    "         k = i + 1\n",
    "         while k > 0 :\n",
    "            if a[k] < a[k-1]: a[k], a[k-1] = a[k-1], a[k]\n",
    "            else: break\n",
    "            k -= 1\n",
    "\n",
    "   def quick_sort(a) :\n",
    "      # TODO\n",
    "   ```\n",
    "\n",
    "   We modify them slightly to return the number of comparisons as follows:"
   ]
  },
  {
   "cell_type": "code",
   "execution_count": 20,
   "id": "b3e80c37",
   "metadata": {},
   "outputs": [
    {
     "name": "stdout",
     "output_type": "stream",
     "text": [
      "a: [0, 1, 2, 3, 4, 5, 6, 7, 8, 9, 10, 11, 12, 13, 14, 15, 16, 17, 18, 19]\n",
      "a: [0, 1, 2, 3, 4, 5, 6, 7, 8, 9, 10, 11, 12, 13, 14, 15, 16, 17, 18, 19]\n",
      "count: 19\n"
     ]
    }
   ],
   "source": [
    "import random\n",
    "\n",
    "def insertion_sort(a) :\n",
    "    N = len(a)\n",
    "    count = 0\n",
    "    # i = 1\n",
    "    # sorted(a[0..i-1])\n",
    "    for i in range(1, N):\n",
    "        k = i\n",
    "        while k > 0 :\n",
    "            if a[k] < a[k-1]: \n",
    "                a[k], a[k-1] = a[k-1], a[k]\n",
    "                count += 1\n",
    "            else: \n",
    "                count += 1\n",
    "                break\n",
    "            k -= 1\n",
    "    return count\n",
    "\n",
    "N = 20\n",
    "a = list(range(N))\n",
    "# random.shuffle(a)\n",
    "print(f\"a: {a}\")\n",
    "count = insertion_sort(a)\n",
    "print(f\"a: {a}\\ncount: {count}\")\n",
    "\n",
    "\n",
    "\n",
    "\n",
    "\n"
   ]
  },
  {
   "cell_type": "markdown",
   "id": "36d86b38",
   "metadata": {},
   "source": [
    "Now we write a simple script that aggregates the counts of insertion sorts in a list, and subsequently plot the list:l"
   ]
  },
  {
   "cell_type": "code",
   "execution_count": 21,
   "id": "4cbf4263",
   "metadata": {},
   "outputs": [
    {
     "data": {
      "text/plain": [
       "[<matplotlib.lines.Line2D at 0x7faffaa7ece0>]"
      ]
     },
     "execution_count": 21,
     "metadata": {},
     "output_type": "execute_result"
    },
    {
     "data": {
      "image/png": "[encoded data removed]",
      "text/plain": [
       "<Figure size 640x480 with 1 Axes>"
      ]
     },
     "metadata": {},
     "output_type": "display_data"
    }
   ],
   "source": [
    "import matplotlib.pyplot as plt\n",
    "\n",
    "insertion_counts = []\n",
    "for N in range(100):\n",
    "    a = list(range(N))\n",
    "    random.shuffle(a)\n",
    "    insertion_counts.append(insertion_sort(a))\n",
    "\n",
    "\n",
    "quick_counts = []\n",
    "for N in range(100):\n",
    "    a = list(range(N))\n",
    "    # random.shuffle(a)\n",
    "    quick_counts.append(insertion_sort(a))\n",
    "\n",
    "plt.plot(insertion_counts)\n",
    "plt.plot(quick_counts)"
   ]
  }
 ],
 "metadata": {
  "kernelspec": {
   "display_name": "Python 3",
   "language": "python",
   "name": "python3"
  },
  "language_info": {
   "codemirror_mode": {
    "name": "ipython",
    "version": 3
   },
   "file_extension": ".py",
   "mimetype": "text/x-python",
   "name": "python",
   "nbconvert_exporter": "python",
   "pygments_lexer": "ipython3",
   "version": "3.10.12"
  }
 },
 "nbformat": 4,
 "nbformat_minor": 5
}
