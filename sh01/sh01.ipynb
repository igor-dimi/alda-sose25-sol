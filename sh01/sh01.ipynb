{
 "cells": [
  {
   "cell_type": "markdown",
   "id": "6ed38650",
   "metadata": {},
   "source": [
    "# Sheet 1"
   ]
  },
  {
   "cell_type": "markdown",
   "id": "80e39540",
   "metadata": {},
   "source": [
    "## Friday the 13th\n",
    "\n",
    "Every now and then friday coincides with the 13th day of a month. How often does this happen?"
   ]
  },
  {
   "cell_type": "markdown",
   "id": "bec49a84",
   "metadata": {},
   "source": [
    "First we define a function to determine whether a year is a leap year:"
   ]
  },
  {
   "cell_type": "code",
   "execution_count": 2,
   "id": "aa85f68f",
   "metadata": {},
   "outputs": [
    {
     "name": "stdout",
     "output_type": "stream",
     "text": [
      "True False False\n"
     ]
    }
   ],
   "source": [
    "def is_leap(year) -> bool :\n",
    "    \"\"\"output true iff year is a leap year\n",
    "    precondition: year >= 0\n",
    "    \n",
    "    >>> is_leap(1999)\n",
    "    False\n",
    "    >>> is_leap(2000)\n",
    "    True\n",
    "    >>> is_leap(1900)\n",
    "    False\n",
    "    \"\"\"\n",
    "    return year % 4 == 0 and (year % 100 != 0 or year % 400 == 0)\n",
    "\n",
    "print(\n",
    "    is_leap(2000),\n",
    "    is_leap(1999),\n",
    "    is_leap(1900))"
   ]
  },
  {
   "cell_type": "markdown",
   "id": "1953323d",
   "metadata": {},
   "source": [
    "Next we write a function that converts the day of a year to the day of the month that this day would fall on. \n",
    "This function takes leap years into account:"
   ]
  },
  {
   "cell_type": "code",
   "execution_count": 3,
   "id": "16d58c8a",
   "metadata": {},
   "outputs": [],
   "source": [
    "def convert_day(year_day, isLeap = False) : \n",
    "    \"\"\"convert a year day to a month day\n",
    "    \n",
    "    precondition: year_day in [1...365] for default call  \n",
    "    precondition: year_day in [1...366] for leap year call, with isLeap = True  \n",
    "    for a given year day year_day returns the day of the month the day falls on  \n",
    "    taking into account if a year is a leap year with the isLeap parameter  \n",
    "\n",
    "    >>> convert_day(1)\n",
    "    1 # 1st day of a year is the 1st day of January\n",
    "    >>> convert_day(255)\n",
    "    12 # 255th day of a year is the 12th day of August\n",
    "    >>> convert_day(60, True)\n",
    "    29 # 60th day of a leap year is the 29th day of February\n",
    "    >>> convert_day(366, True)\n",
    "    31 # the last of a leap year is the 31th December\n",
    "    \"\"\"    \n",
    "\n",
    "    # Days in each month (non-leap year)\n",
    "    months = [31, 28, 31, 30, 31, 30, 31, 31, 30, 31, 30, 31]\n",
    "    if isLeap : months[1] = 29\n",
    "    \n",
    "    i = 0 # month number starting with 0\n",
    "    s = 0 # accumulates the sum of the days in months\n",
    "    # invariant: s == sum(months[0..i-1]) and day > s\n",
    "    while year_day > s + months[i] :\n",
    "        s += months[i]\n",
    "        i += 1\n",
    "    # sum(months[0..i-1]) == s < day <= s + months[i] == sum(months[0..i])\n",
    "    return year_day - s\n",
    "\n",
    "    \n",
    "\n",
    "\n",
    "    "
   ]
  },
  {
   "cell_type": "markdown",
   "id": "ff0eef87",
   "metadata": {},
   "source": [
    "We test the function for a few days, including\n",
    "\n",
    "* 1st day of a non-leap year: January 1st\n",
    "* 255th day of a non-leap year: September 12th\n",
    "* 366th day of a leap year: December 31st\n",
    "* 60th day of a leap year: February 29th"
   ]
  },
  {
   "cell_type": "code",
   "execution_count": 33,
   "id": "adb6c6e6",
   "metadata": {},
   "outputs": [
    {
     "name": "stdout",
     "output_type": "stream",
     "text": [
      "1\n",
      "12\n",
      "31\n",
      "29\n"
     ]
    }
   ],
   "source": [
    "print(\n",
    "    convert_day(1), \n",
    "    convert_day(255), \n",
    "    convert_day(366, True),\n",
    "    convert_day(60, True), sep = '\\n'\n",
    ")"
   ]
  },
  {
   "cell_type": "markdown",
   "id": "81394bf0",
   "metadata": {},
   "source": [
    "Next we compute the days of the year that fall on the 13th day of a month, both for a leap and a non-leap year.  \n",
    "We will use this information in the next function."
   ]
  },
  {
   "cell_type": "code",
   "execution_count": 34,
   "id": "11fc2705",
   "metadata": {},
   "outputs": [
    {
     "name": "stdout",
     "output_type": "stream",
     "text": [
      "[13, 44, 72, 103, 133, 164, 194, 225, 256, 286, 317, 347]\n",
      "[13, 44, 73, 104, 134, 165, 195, 226, 257, 287, 318, 348]\n"
     ]
    }
   ],
   "source": [
    "thirteenth_days = []\n",
    "for i in range(1, 366) : \n",
    "    if convert_day(i) == 13 : thirteenth_days.append(i)\n",
    "\n",
    "thirteenth_days\n",
    "\n",
    "thirteenth_days_leap = []\n",
    "for i in range(1, 367) : \n",
    "    if convert_day(i, True) == 13 : thirteenth_days_leap.append(i)\n",
    "\n",
    "print(thirteenth_days, \n",
    "    thirteenth_days_leap, sep = '\\n')"
   ]
  },
  {
   "cell_type": "markdown",
   "id": "2e0e20ab",
   "metadata": {},
   "source": [
    "Now we define a function that accepts a parameter that stands for the day of the week, ranging from 0 to 6, representing\n",
    "the days Mo, ..., Sun.  \n",
    "\n",
    "This input parameter is the day of the week that the first 13th day of the month (i.e. January 13th) fell on.  \n",
    "E.g. if January 13th was Wednesday that year, then the input parameter is 2. If the year is a leap year a second default boolean parameter is\n",
    "provided as `True`.   "
   ]
  },
  {
   "cell_type": "code",
   "execution_count": 36,
   "id": "7679ba94",
   "metadata": {},
   "outputs": [
    {
     "name": "stdout",
     "output_type": "stream",
     "text": [
      "[1, 4, 4, 0, 2, 5, 0, 3, 6, 1, 4, 6]\n",
      "[3, 6, 0, 3, 5, 1, 3, 6, 2, 4, 0, 2]\n"
     ]
    }
   ],
   "source": [
    "def days_of_the_week_that_are_thirteenth(i, isLeap = False) :\n",
    "    \"\"\"return an array that contains the days of the week  \n",
    "    that are the thirteenth day of the month\n",
    "\n",
    "    days are numbered from 0 to 6 corresponding to days Mon .. Sun  \n",
    "    input parameter i is the number of the first 13th day. It can  \n",
    "    be any day of the week. E.g. if in a given year Januaray 13th was Monday  \n",
    "    then i is 0. \n",
    "    \n",
    "    \"\"\"\n",
    "\n",
    "    thirteenth_days = [13, 44, 72, 103, 133, 164, 194, 225, 256, 286, 317, 347]\n",
    "    if isLeap : \n",
    "        thirteenth_days = [13, 44, 73, 104, 134, 165, 195, 226, 257, 287, 318, 348]\n",
    "\n",
    "\n",
    "    \n",
    "    b = [None] * len(thirteenth_days)\n",
    "    b[0] = i\n",
    "    for j in range(1, len(thirteenth_days)) :\n",
    "        b[j] = (b[j - 1] + (thirteenth_days[j] - thirteenth_days[j - 1])) % 7\n",
    "    return b\n",
    "\n",
    "\n",
    "print(days_of_the_week_that_are_thirteenth(1), \n",
    "    days_of_the_week_that_are_thirteenth(3, True), sep = '\\n')"
   ]
  },
  {
   "cell_type": "markdown",
   "id": "462d15e7",
   "metadata": {},
   "source": [
    "Note that January 13th can be any day of the week from Monday to Sunday for a given year. This function computes the days of the week all the 13th days of a month fall on given the day of the week 13th January falls on that year. E.g. for the year 1993, January 13th was a Wednesday. So the input parameter is simply the number 2. \n",
    "\n",
    "All the other 13th days of other months are computed that as follows with this function:"
   ]
  },
  {
   "cell_type": "code",
   "execution_count": 37,
   "id": "2d362a80",
   "metadata": {},
   "outputs": [
    {
     "name": "stdout",
     "output_type": "stream",
     "text": [
      "[2, 5, 5, 1, 3, 6, 1, 4, 0, 2, 5, 0]\n"
     ]
    }
   ],
   "source": [
    "print(days_of_the_week_that_are_thirteenth(2, is_leap(1993)))"
   ]
  },
  {
   "cell_type": "markdown",
   "id": "eb3e0a3c",
   "metadata": {},
   "source": [
    "From this result we see that the year 1993 had only one Friday the 13th - on August."
   ]
  },
  {
   "cell_type": "markdown",
   "id": "d390996a",
   "metadata": {},
   "source": [
    "Next we define another function that computes the first day of any year after (and including) 1 A.D.\n",
    "\n",
    "It is assumed that the first day of the first year was a Monday. The first years of all other years are \n",
    "computed accordingly and taking leap years into account:"
   ]
  },
  {
   "cell_type": "code",
   "execution_count": 15,
   "id": "ee88bed5",
   "metadata": {},
   "outputs": [],
   "source": [
    "def first_day_of_year(year) :\n",
    "    \"\"\"return the first day of a year given as input parameter  \n",
    "    where days are numbered 0..6 starting from monday\n",
    "    precondition: year >= 1\n",
    "\n",
    "\n",
    "    >>> first_day_of_year(1999)\n",
    "\n",
    "    \"\"\"\n",
    "    days_past = 0\n",
    "    for i in range(1, year) : \n",
    "        if is_leap(i) : days_past += 366\n",
    "        else : days_past += 365\n",
    "    return days_past % 7\n"
   ]
  },
  {
   "cell_type": "markdown",
   "id": "d0dad5fd",
   "metadata": {},
   "source": [
    "Let's test this function to find out the what day of the week the first days of the first 5 years fell on:"
   ]
  },
  {
   "cell_type": "code",
   "execution_count": 16,
   "id": "6f3e955c",
   "metadata": {},
   "outputs": [
    {
     "name": "stdout",
     "output_type": "stream",
     "text": [
      "0\n",
      "1\n",
      "2\n",
      "3\n",
      "5\n"
     ]
    }
   ],
   "source": [
    "for i in range(1, 6) : print(first_day_of_year(i))"
   ]
  },
  {
   "cell_type": "markdown",
   "id": "0de84f12",
   "metadata": {},
   "source": [
    "First day of year 1993:"
   ]
  },
  {
   "cell_type": "code",
   "execution_count": 67,
   "id": "fbc630c7",
   "metadata": {},
   "outputs": [
    {
     "data": {
      "text/plain": [
       "4"
      ]
     },
     "execution_count": 67,
     "metadata": {},
     "output_type": "execute_result"
    }
   ],
   "source": [
    "first_day_of_year(1993)"
   ]
  },
  {
   "cell_type": "markdown",
   "id": "65fdb6d1",
   "metadata": {},
   "source": [
    "Now we are ready to generate all the 13th days of all months of  years ranging from 1993 to 2025. "
   ]
  },
  {
   "cell_type": "code",
   "execution_count": null,
   "id": "aaca088b",
   "metadata": {},
   "outputs": [],
   "source": [
    "thirteenth_days = []\n",
    "for y in range(1993, 2026) :\n",
    "    first_day = first_day_of_year(y)\n",
    "    first_thirteenth_day = (first_day + 12) % 7\n",
    "    thirteenth_days.append(days_of_the_week_that_are_thirteenth(first_thirteenth_day, is_leap(y)))\n"
   ]
  },
  {
   "cell_type": "markdown",
   "id": "2aaba0c4",
   "metadata": {},
   "source": [
    "`thirteenth_days` holds 33 arrays, each holding 12 values, that contains the days of the week that the 13th of the corresponding month fell on: "
   ]
  },
  {
   "cell_type": "code",
   "execution_count": null,
   "id": "5174e513",
   "metadata": {},
   "outputs": [],
   "source": [
    "print(thirteenth_days)"
   ]
  },
  {
   "cell_type": "markdown",
   "id": "405546e5",
   "metadata": {},
   "source": [
    "To find out how many times 'Friday the 13th' was experienced since 1993, we simply have to count and add iup each occurrence of '4' (Friday) in each array: "
   ]
  },
  {
   "cell_type": "code",
   "execution_count": null,
   "id": "531ef125",
   "metadata": {},
   "outputs": [
    {
     "data": {
      "text/plain": [
       "55"
      ]
     },
     "execution_count": 32,
     "metadata": {},
     "output_type": "execute_result"
    }
   ],
   "source": [
    "count = 0\n",
    "for days in thirteenth_days :\n",
    "    for day in days :\n",
    "        if day == 4 : count += 1\n",
    "\n",
    "print(count)"
   ]
  },
  {
   "cell_type": "markdown",
   "id": "2da4d22a",
   "metadata": {},
   "source": [
    "So Friday the 13th was experienced 55 times in total since year 1993. Finally, we can encapsulate all of this computation in a single function:"
   ]
  },
  {
   "cell_type": "code",
   "execution_count": null,
   "id": "000ee04d",
   "metadata": {},
   "outputs": [
    {
     "data": {
      "text/plain": [
       "44"
      ]
     },
     "execution_count": 47,
     "metadata": {},
     "output_type": "execute_result"
    }
   ],
   "source": [
    "def count_friday_13th_since(year) :\n",
    "    thirteenth_days = []\n",
    "    for y in range(year, 2026) :\n",
    "        first_day = first_day_of_year(y)\n",
    "        first_thirteenth_day = (first_day + 12) % 7\n",
    "        thirteenth_days.append(\n",
    "            days_of_the_week_that_are_thirteenth(first_thirteenth_day, is_leap(y)))\n",
    "    count = 0\n",
    "    for days in thirteenth_days :\n",
    "        for day in days :\n",
    "            if day == 4 : count += 1\n",
    "    return count\n",
    "\n",
    "\n",
    "count_friday_13th_since(2000)  "
   ]
  },
  {
   "cell_type": "markdown",
   "id": "e70d31fb",
   "metadata": {},
   "source": [
    "## Stable Glasses\n",
    "\n",
    "a) *Linear search*: **30** tries in worst case, corresponding to the situation when the glass breaks at the highest platform. \n",
    "   We start at the bottom platfrom and move to the next\n",
    "   higher one if the glass doesn't break. As soon as the glass breaks we know that the platform just below is the maximum height the glass can withstand.. \n",
    "b) *Binary search*: **5** tries always. In worst case each time we try the glass breaks. Therefore, maximum amount of broken glasses is **5**.\n",
    "   This corresponds to the situation where no height is safe for the glass.\n",
    "   \n",
    "   **Justification**: The general strategy is the same as with binary search - we first try the middle platform, i.e. 15th platform. In case the glass doesn't break we know that we must search only in the upper half. Otherwise, we must search only in the lower half. \n",
    "   Since in each step we half the amount of platforms the procedure is guaranteed to terminate in approximately $\\log_2{30}$ steps. How many exactly can be seen with the following sequence: 15, 8, 4, 2, 1. Explanation of this sequence is that the middle platform where we have to perform the experiment is determined by the formula: `(total platforms left + 1) // 2`. And the total platforms left in the next step is always the number of the middle platform from the previous step. So in total there will be 5 steps and each time a glass will break. \n",
    "c) In this case we can determine the highest platform in **11** steps at worst case with the following procedure (by dividing the stand in 3 equal parts)\n",
    "   1. Test first glass in the highest platform in the lower third, i.e. the 11th platform. If it breaks then we must test the other glass in the remaining 10 platforms in the lower third linearly until it breaks the first time: 10 + 1 = **11** tries at worst.\n",
    "   2. if the first glass doesn't break, then we try the lowest platform in the upper third, i.e. the 21st platform with this glass. If the glass breaks here, then we search the middle third, i.e. we test the platforms 12..20 with the other glass linearly, until it breaks. This totals to 1 + 1 + 9 = **11** tries in worst case.\n",
    "   3. If first glass doesn't break in the 21st platform, then we continue to search the upper third platform with it, namely the platforms 22...30, linearly until the glass breaks or we reach the end. This totals to 1 + 1 + 9 = **11** tries in worst case.    "
   ]
  },
  {
   "cell_type": "code",
   "execution_count": null,
   "id": "c3262573",
   "metadata": {},
   "outputs": [],
   "source": []
  }
 ],
 "metadata": {
  "kernelspec": {
   "display_name": "Python 3",
   "language": "python",
   "name": "python3"
  },
  "language_info": {
   "codemirror_mode": {
    "name": "ipython",
    "version": 3
   },
   "file_extension": ".py",
   "mimetype": "text/x-python",
   "name": "python",
   "nbconvert_exporter": "python",
   "pygments_lexer": "ipython3",
   "version": "3.13.2"
  }
 },
 "nbformat": 4,
 "nbformat_minor": 5
}
