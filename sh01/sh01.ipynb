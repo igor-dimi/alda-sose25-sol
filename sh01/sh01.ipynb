{
 "cells": [
  {
   "cell_type": "markdown",
   "id": "6ed38650",
   "metadata": {},
   "source": [
    "# Sheet 1"
   ]
  },
  {
   "cell_type": "markdown",
   "id": "80e39540",
   "metadata": {},
   "source": [
    "## Friday the 13th\n",
    "\n",
    "Every now and then friday coincides with the 13th day of a month. How often does this happen?"
   ]
  },
  {
   "cell_type": "code",
   "execution_count": 1,
   "id": "aa85f68f",
   "metadata": {},
   "outputs": [
    {
     "name": "stdout",
     "output_type": "stream",
     "text": [
      "True False False\n"
     ]
    }
   ],
   "source": [
    "def is_leap(year) -> bool :\n",
    "    \"\"\"output true iff year is a leap year\n",
    "    precondition: year >= 0\n",
    "    \n",
    "    >>> is_leap(1999)\n",
    "    False\n",
    "    >>> is_leap(2000)\n",
    "    True\n",
    "    >>> is_leap(1900)\n",
    "    False\n",
    "    \"\"\"\n",
    "    return year % 4 == 0 and (year % 100 != 0 or year % 400 == 0)\n",
    "\n",
    "print(\n",
    "    is_leap(2000),\n",
    "    is_leap(1999),\n",
    "    is_leap(1900))"
   ]
  },
  {
   "cell_type": "markdown",
   "id": "ac5d202d",
   "metadata": {},
   "source": [
    "and test it with test data generated from chatGPT:"
   ]
  },
  {
   "cell_type": "code",
   "execution_count": 3,
   "id": "85788814",
   "metadata": {},
   "outputs": [
    {
     "name": "stdout",
     "output_type": "stream",
     "text": [
      "Test passed? True\n"
     ]
    }
   ],
   "source": [
    "# Test data: a mix of leap years and non-leap years\n",
    "years = [0, 1, 4, 100, 200, 400, 800, 900, 1000, 1200, 1500, 1600, 1700, 1800, 1900, 2000, 2020, 2021, 2024, 2100, 2400]\n",
    "expected_result = [\n",
    "    True,   # 0 — leap (by definition in most computer calendar systems)\n",
    "    False,  # 1 — not leap\n",
    "    True,   # 4 — leap\n",
    "    False,  # 100 — not leap\n",
    "    False,  # 200 — not leap\n",
    "    True,   # 400 — leap\n",
    "    True,   # 800 — leap\n",
    "    False,  # 900 — not leap\n",
    "    False,  # 1000 — not leap\n",
    "    True,   # 1200 — leap\n",
    "    False,  # 1500 — not leap\n",
    "    True,   # 1600 — leap\n",
    "    False,  # 1700 — not leap\n",
    "    False,  # 1800 — not leap\n",
    "    False,  # 1900 — not leap\n",
    "    True,   # 2000 — leap\n",
    "    True,   # 2020 — leap\n",
    "    False,  # 2021 — not leap\n",
    "    True,   # 2024 — leap\n",
    "    False,  # 2100 — not leap\n",
    "    True    # 2400 — leap\n",
    "]\n",
    "\n",
    "# Test function\n",
    "def my_test(years, expected_result):\n",
    "    my_result = list(map(is_leap, years))\n",
    "    return my_result == expected_result\n",
    "\n",
    "# Run the test\n",
    "print(\"Test passed?\" , my_test(years, expected_result))\n"
   ]
  },
  {
   "cell_type": "code",
   "execution_count": 4,
   "id": "431c902a",
   "metadata": {},
   "outputs": [
    {
     "data": {
      "text/plain": [
       "365"
      ]
     },
     "execution_count": 4,
     "metadata": {},
     "output_type": "execute_result"
    }
   ],
   "source": [
    "31 + 28 + 31 + 30 + 31 + 30 + 31 + 31 + 30 + 31 + 30 + 31"
   ]
  },
  {
   "cell_type": "code",
   "execution_count": null,
   "id": "0cafaafd",
   "metadata": {},
   "outputs": [
    {
     "name": "stdout",
     "output_type": "stream",
     "text": [
      "[]\n"
     ]
    },
    {
     "data": {
      "text/plain": [
       "[53, 52, 52, 52, 52, 52, 52]"
      ]
     },
     "execution_count": 15,
     "metadata": {},
     "output_type": "execute_result"
    }
   ],
   "source": [
    "a = []\n",
    "print(a)\n",
    "for i in range(1, 8) : a.append((365 - i) // 7)\n",
    "a = list(map(lambda i : i + 1, a))\n",
    "a"
   ]
  },
  {
   "cell_type": "code",
   "execution_count": 16,
   "id": "fc442c36",
   "metadata": {},
   "outputs": [],
   "source": [
    "from itertools import accumulate"
   ]
  },
  {
   "cell_type": "code",
   "execution_count": 23,
   "id": "ba4b7566",
   "metadata": {},
   "outputs": [
    {
     "name": "stdout",
     "output_type": "stream",
     "text": [
      "[31, 59, 90, 120, 151, 181, 212, 243, 273, 304, 334, 365]\n",
      "[31, 60, 91, 121, 152, 182, 213, 244, 274, 305, 335, 366]\n"
     ]
    }
   ],
   "source": [
    "# Days in each month (non-leap year)\n",
    "non_leap = [31, 28, 31, 30, 31, 30, 31, 31, 30, 31, 30, 31]\n",
    "\n",
    "# Days in each month (leap year — February has 29 days)\n",
    "leap = [31, 29, 31, 30, 31, 30, 31, 31, 30, 31, 30, 31]\n",
    "\n",
    "sum_leap = list(accumulate(non_leap))\n",
    "sum_non_leap = list(accumulate(leap))\n",
    "print(sum_leap, sum_non_leap, sep='\\n')"
   ]
  },
  {
   "cell_type": "code",
   "execution_count": null,
   "id": "16d58c8a",
   "metadata": {},
   "outputs": [],
   "source": [
    "def f(day) : \n",
    "    # Days in each month (non-leap year)\n",
    "    non_leap = [31, 28, 31, 30, 31, 30, 31, 31, 30, 31, 30, 31]\n",
    "    i = 0\n",
    "    s = 0\n",
    "    # s == sum(i - 1) and day > s\n",
    "    while day > s + non_leap[i] :\n",
    "        s += non_leap[i]\n",
    "        i += 1\n",
    "    # sum(i - 1) = s < day <= s + non_leap[i] = sum(i)\n",
    "    return day - s"
   ]
  },
  {
   "cell_type": "code",
   "execution_count": 29,
   "id": "adb6c6e6",
   "metadata": {},
   "outputs": [
    {
     "data": {
      "text/plain": [
       "31"
      ]
     },
     "execution_count": 29,
     "metadata": {},
     "output_type": "execute_result"
    }
   ],
   "source": [
    "f(365)"
   ]
  },
  {
   "cell_type": "code",
   "execution_count": null,
   "id": "ccbc605e",
   "metadata": {},
   "outputs": [],
   "source": []
  }
 ],
 "metadata": {
  "kernelspec": {
   "display_name": "Python 3",
   "language": "python",
   "name": "python3"
  },
  "language_info": {
   "codemirror_mode": {
    "name": "ipython",
    "version": 3
   },
   "file_extension": ".py",
   "mimetype": "text/x-python",
   "name": "python",
   "nbconvert_exporter": "python",
   "pygments_lexer": "ipython3",
   "version": "3.10.12"
  }
 },
 "nbformat": 4,
 "nbformat_minor": 5
}
